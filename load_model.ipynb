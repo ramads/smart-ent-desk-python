{
 "cells": [
  {
   "cell_type": "code",
   "execution_count": 5,
   "metadata": {},
   "outputs": [],
   "source": [
    "import tensorflow as tf\n",
    "from PIL import Image\n",
    "import numpy as np\n",
    "import cv2\n",
    "import matplotlib.pyplot as plt\n",
    "import tensorflow as tf\n",
    "from sklearn.metrics import confusion_matrix\n",
    "import itertools\n",
    "import os, glob\n",
    "from tqdm import tqdm\n",
    "from efficientnet.tfkeras import EfficientNetB0\n",
    "\n",
    "# Load the model\n",
    "model_path = './1-model_tuning224_128_adam.h5'\n",
    "model = tf.keras.models.load_model(model_path)\n",
    "\n",
    "# Function to preprocess the image\n",
    "def preprocess_image(image_path):\n",
    "    img = Image.open(image_path)\n",
    "    img = img.resize((224, 224))\n",
    "    img = np.array(img) / 255.0  # Normalize pixel values to [0, 1]\n",
    "    img = np.expand_dims(img, axis=0)  # Add batch dimension\n",
    "    return img\n",
    "\n"
   ]
  },
  {
   "cell_type": "code",
   "execution_count": 17,
   "metadata": {},
   "outputs": [
    {
     "name": "stdout",
     "output_type": "stream",
     "text": [
      "1/1 [==============================] - 0s 46ms/step\n",
      "Predicted Class Index: 5\n",
      "Predicted Class Index: Normal\n",
      "Predicted Probability: 0.5911\n"
     ]
    }
   ],
   "source": [
    "# Path to your image\n",
    "image_path = './2017-10-09T19-35-44.jpg'\n",
    "image_path = './N1.jpg'\n",
    "\n",
    "\n",
    "# Preprocess the image\n",
    "processed_image = preprocess_image(image_path)\n",
    "\n",
    "# Make predictions\n",
    "predictions = model.predict(processed_image)\n",
    "\n",
    "label = ['Aerotitis Barotrauma', 'Cerumen', 'Corpus Alienum', 'M Timpani normal', 'Myringitis Bulosa', 'Normal', 'OE Difusa', 'OE Furunkulosa', 'OMA Hiperemis', 'OMA Oklusi Tuba', 'OMA Perforasi', 'OMA Resolusi', 'OMA Supurasi', 'OMed Efusi', 'OMedK Resolusi', 'OMedK Tipe Aman', 'OMedK Tipe Bahaya', 'Otomikosis', 'Perforasi Membran Tympani', 'Tympanosklerotik']\n",
    "\n",
    "# Get the predicted class index\n",
    "predicted_class_index = np.argmax(predictions)\n",
    "predicted_probability = predictions[0][predicted_class_index]\n",
    "\n",
    "# Display the predicted class index\n",
    "print(f'Predicted Class Index: {predicted_class_index}')\n",
    "print(f'Predicted Class Index: {label[predicted_class_index]}')\n",
    "print(f'Predicted Probability: {predicted_probability:.4f}')\n"
   ]
  },
  {
   "cell_type": "code",
   "execution_count": null,
   "metadata": {},
   "outputs": [],
   "source": []
  },
  {
   "cell_type": "code",
   "execution_count": null,
   "metadata": {},
   "outputs": [],
   "source": []
  }
 ],
 "metadata": {
  "kernelspec": {
   "display_name": "Python 3",
   "language": "python",
   "name": "python3"
  },
  "language_info": {
   "codemirror_mode": {
    "name": "ipython",
    "version": 3
   },
   "file_extension": ".py",
   "mimetype": "text/x-python",
   "name": "python",
   "nbconvert_exporter": "python",
   "pygments_lexer": "ipython3",
   "version": "3.10.12"
  }
 },
 "nbformat": 4,
 "nbformat_minor": 2
}
